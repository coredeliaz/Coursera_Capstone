{
    "cells": [
        {
            "cell_type": "markdown",
            "metadata": {
                "collapsed": true
            },
            "source": "# Seattle Traffic Accident Severity Prediction (Week 3)\n## 1. Introduction\nTraffic accident has risen to the 3rd major reason of mortality among countries by 2020, which also has a negative impact on economical society. Citizens feel lack of security when they drive on roads, cross the street or even walk along the pedestrain. Vehicle manufactures have invested large amount of professionals and fundings to increase the quality of vehicles but all these efforts have less contribution to traffic rushes. It is the time for government to make some actions in order to find out the main causes of traffic accidents. \n## 2. Business Problem\nThe purpose of this project is to analyze the collision dataset for the city of Seattle and find patterns and determinate key factors such as weather, light and road conditions, drug or alcohol influence, driver inattention to provide the best traffic accident severity prediction. It will use various analytical techniques and machine learning classification algorithms such as logistic regression, decision tree analysis, k-nearest-neighbors, support vector machine,etc.\n## 3. Target Audience\nThis study can mainly help transportation secter governments improve traffic policies or update public facilities such as street lamp,  speed bumps at proper positions. Car rental or insurance companies are also among the target groups of this analysis because they can classify potentical customers and design different service content based on customers driving habits."
        },
        {
            "cell_type": "markdown",
            "metadata": {},
            "source": "## 4. Data\nSeattle Department of Transportation provides traffic accident cases from 2004 for almost 15 years to discover the reasons behind these collisions. The dataset contains all kinds of collisions in Seattle from 2004 to 2020. To predict the damage level of road accidents, the indicator 'SEVERITYCODE' is chosen as the dependent variable. Normally, the degree of collision climbs up from property damage Only collision injury to injury collision. Among dozens of attributes, this project concentrates on both nature and human factors which may lead to car accidents. Nature factors are made up by 'WEATHER','ROADCOND' and 'LIGHTCOND' which represents weather, road and view circumstance respectively. On the other hand, human factors usually reflects the status of drivers such as 'INATTENTIONIND','UNDERINFL', and 'SPEEDING' which shows the concentration of drivers mind, drug or alcohol influence and overspeed. All attributes involved in this projects are shown below."
        },
        {
            "cell_type": "markdown",
            "metadata": {},
            "source": "| Attribute |Data type, length| Description |\n| :--- | :--- | :--- |\n| WEATHER | Text,300 | A description of the weather conditions during the time of the collision.\n| ROADCOND | Text,300 | The condition of the road during the collision.\n| LIGHTCOND | Text,300 | The light conditions during the collision.\n| INATTENTIONIND | Text,1 | Whether or not collision was due to inattention.(Y/N)\n| UNDERINFL | Text,10 | Whether or not a driver involved was under the influence of drugs or alcohol.\n| SPEEDING | Text,1 | Whether or not speeding was a factor in the collison.(Y/N)"
        },
        {
            "cell_type": "markdown",
            "metadata": {},
            "source": "### 4.1 Data Source\nThe full dataset can be found [here](https://s3.us.cloud-object-storage.appdomain.cloud/cf-courses-data/CognitiveClass/DP0701EN/version-2/Data-Collisions.csv).\n\n### 4.2 Metadata\nThe metadata can be found [here](https://s3.us.cloud-object-storage.appdomain.cloud/cf-courses-data/CognitiveClass/DP0701EN/version-2/Metadata.pdf).\n\n### 4.3 Display the data\nLoad the raw dataset."
        },
        {
            "cell_type": "code",
            "execution_count": 1,
            "metadata": {},
            "outputs": [
                {
                    "name": "stdout",
                    "output_type": "stream",
                    "text": "--2020-09-16 13:35:23--  https://s3.us.cloud-object-storage.appdomain.cloud/cf-courses-data/CognitiveClass/DP0701EN/version-2/Data-Collisions.csv\nResolving s3.us.cloud-object-storage.appdomain.cloud (s3.us.cloud-object-storage.appdomain.cloud)... 67.228.254.196\nConnecting to s3.us.cloud-object-storage.appdomain.cloud (s3.us.cloud-object-storage.appdomain.cloud)|67.228.254.196|:443... connected.\nHTTP request sent, awaiting response... 200 OK\nLength: 73917638 (70M) [text/csv]\nSaving to: \u2018Data-Collisions.csv\u2019\n\n100%[======================================>] 73,917,638  47.6MB/s   in 1.5s   \n\n2020-09-16 13:35:24 (47.6 MB/s) - \u2018Data-Collisions.csv\u2019 saved [73917638/73917638]\n\n"
                }
            ],
            "source": "!wget -O Data-Collisions.csv https://s3.us.cloud-object-storage.appdomain.cloud/cf-courses-data/CognitiveClass/DP0701EN/version-2/Data-Collisions.csv"
        },
        {
            "cell_type": "code",
            "execution_count": 7,
            "metadata": {},
            "outputs": [
                {
                    "data": {
                        "text/html": "<div>\n<style scoped>\n    .dataframe tbody tr th:only-of-type {\n        vertical-align: middle;\n    }\n\n    .dataframe tbody tr th {\n        vertical-align: top;\n    }\n\n    .dataframe thead th {\n        text-align: right;\n    }\n</style>\n<table border=\"1\" class=\"dataframe\">\n  <thead>\n    <tr style=\"text-align: right;\">\n      <th></th>\n      <th>SEVERITYCODE</th>\n      <th>X</th>\n      <th>Y</th>\n      <th>INCKEY</th>\n      <th>COLDETKEY</th>\n      <th>REPORTNO</th>\n      <th>STATUS</th>\n      <th>ADDRTYPE</th>\n      <th>INTKEY</th>\n      <th>LOCATION</th>\n      <th>...</th>\n      <th>ROADCOND</th>\n      <th>LIGHTCOND</th>\n      <th>PEDROWNOTGRNT</th>\n      <th>SDOTCOLNUM</th>\n      <th>SPEEDING</th>\n      <th>ST_COLCODE</th>\n      <th>ST_COLDESC</th>\n      <th>SEGLANEKEY</th>\n      <th>CROSSWALKKEY</th>\n      <th>HITPARKEDCAR</th>\n    </tr>\n    <tr>\n      <th>OBJECTID</th>\n      <th></th>\n      <th></th>\n      <th></th>\n      <th></th>\n      <th></th>\n      <th></th>\n      <th></th>\n      <th></th>\n      <th></th>\n      <th></th>\n      <th></th>\n      <th></th>\n      <th></th>\n      <th></th>\n      <th></th>\n      <th></th>\n      <th></th>\n      <th></th>\n      <th></th>\n      <th></th>\n      <th></th>\n    </tr>\n  </thead>\n  <tbody>\n    <tr>\n      <th>1</th>\n      <td>2</td>\n      <td>-122.323148</td>\n      <td>47.703140</td>\n      <td>1307</td>\n      <td>1307</td>\n      <td>3502005</td>\n      <td>Matched</td>\n      <td>Intersection</td>\n      <td>37475.0</td>\n      <td>5TH AVE NE AND NE 103RD ST</td>\n      <td>...</td>\n      <td>Wet</td>\n      <td>Daylight</td>\n      <td>NaN</td>\n      <td>NaN</td>\n      <td>NaN</td>\n      <td>10</td>\n      <td>Entering at angle</td>\n      <td>0</td>\n      <td>0</td>\n      <td>N</td>\n    </tr>\n    <tr>\n      <th>2</th>\n      <td>1</td>\n      <td>-122.347294</td>\n      <td>47.647172</td>\n      <td>52200</td>\n      <td>52200</td>\n      <td>2607959</td>\n      <td>Matched</td>\n      <td>Block</td>\n      <td>NaN</td>\n      <td>AURORA BR BETWEEN RAYE ST AND BRIDGE WAY N</td>\n      <td>...</td>\n      <td>Wet</td>\n      <td>Dark - Street Lights On</td>\n      <td>NaN</td>\n      <td>6354039.0</td>\n      <td>NaN</td>\n      <td>11</td>\n      <td>From same direction - both going straight - bo...</td>\n      <td>0</td>\n      <td>0</td>\n      <td>N</td>\n    </tr>\n    <tr>\n      <th>3</th>\n      <td>1</td>\n      <td>-122.334540</td>\n      <td>47.607871</td>\n      <td>26700</td>\n      <td>26700</td>\n      <td>1482393</td>\n      <td>Matched</td>\n      <td>Block</td>\n      <td>NaN</td>\n      <td>4TH AVE BETWEEN SENECA ST AND UNIVERSITY ST</td>\n      <td>...</td>\n      <td>Dry</td>\n      <td>Daylight</td>\n      <td>NaN</td>\n      <td>4323031.0</td>\n      <td>NaN</td>\n      <td>32</td>\n      <td>One parked--one moving</td>\n      <td>0</td>\n      <td>0</td>\n      <td>N</td>\n    </tr>\n    <tr>\n      <th>4</th>\n      <td>1</td>\n      <td>-122.334803</td>\n      <td>47.604803</td>\n      <td>1144</td>\n      <td>1144</td>\n      <td>3503937</td>\n      <td>Matched</td>\n      <td>Block</td>\n      <td>NaN</td>\n      <td>2ND AVE BETWEEN MARION ST AND MADISON ST</td>\n      <td>...</td>\n      <td>Dry</td>\n      <td>Daylight</td>\n      <td>NaN</td>\n      <td>NaN</td>\n      <td>NaN</td>\n      <td>23</td>\n      <td>From same direction - all others</td>\n      <td>0</td>\n      <td>0</td>\n      <td>N</td>\n    </tr>\n    <tr>\n      <th>5</th>\n      <td>2</td>\n      <td>-122.306426</td>\n      <td>47.545739</td>\n      <td>17700</td>\n      <td>17700</td>\n      <td>1807429</td>\n      <td>Matched</td>\n      <td>Intersection</td>\n      <td>34387.0</td>\n      <td>SWIFT AVE S AND SWIFT AV OFF RP</td>\n      <td>...</td>\n      <td>Wet</td>\n      <td>Daylight</td>\n      <td>NaN</td>\n      <td>4028032.0</td>\n      <td>NaN</td>\n      <td>10</td>\n      <td>Entering at angle</td>\n      <td>0</td>\n      <td>0</td>\n      <td>N</td>\n    </tr>\n  </tbody>\n</table>\n<p>5 rows \u00d7 37 columns</p>\n</div>",
                        "text/plain": "          SEVERITYCODE           X          Y  INCKEY  COLDETKEY REPORTNO  \\\nOBJECTID                                                                    \n1                    2 -122.323148  47.703140    1307       1307  3502005   \n2                    1 -122.347294  47.647172   52200      52200  2607959   \n3                    1 -122.334540  47.607871   26700      26700  1482393   \n4                    1 -122.334803  47.604803    1144       1144  3503937   \n5                    2 -122.306426  47.545739   17700      17700  1807429   \n\n           STATUS      ADDRTYPE   INTKEY  \\\nOBJECTID                                   \n1         Matched  Intersection  37475.0   \n2         Matched         Block      NaN   \n3         Matched         Block      NaN   \n4         Matched         Block      NaN   \n5         Matched  Intersection  34387.0   \n\n                                             LOCATION  ... ROADCOND  \\\nOBJECTID                                               ...            \n1                          5TH AVE NE AND NE 103RD ST  ...      Wet   \n2          AURORA BR BETWEEN RAYE ST AND BRIDGE WAY N  ...      Wet   \n3         4TH AVE BETWEEN SENECA ST AND UNIVERSITY ST  ...      Dry   \n4            2ND AVE BETWEEN MARION ST AND MADISON ST  ...      Dry   \n5                     SWIFT AVE S AND SWIFT AV OFF RP  ...      Wet   \n\n                        LIGHTCOND  PEDROWNOTGRNT SDOTCOLNUM SPEEDING  \\\nOBJECTID                                                               \n1                        Daylight            NaN        NaN      NaN   \n2         Dark - Street Lights On            NaN  6354039.0      NaN   \n3                        Daylight            NaN  4323031.0      NaN   \n4                        Daylight            NaN        NaN      NaN   \n5                        Daylight            NaN  4028032.0      NaN   \n\n          ST_COLCODE                                         ST_COLDESC  \\\nOBJECTID                                                                  \n1                 10                                  Entering at angle   \n2                 11  From same direction - both going straight - bo...   \n3                 32                             One parked--one moving   \n4                 23                   From same direction - all others   \n5                 10                                  Entering at angle   \n\n          SEGLANEKEY  CROSSWALKKEY HITPARKEDCAR  \nOBJECTID                                         \n1                  0             0            N  \n2                  0             0            N  \n3                  0             0            N  \n4                  0             0            N  \n5                  0             0            N  \n\n[5 rows x 37 columns]"
                    },
                    "execution_count": 7,
                    "metadata": {},
                    "output_type": "execute_result"
                }
            ],
            "source": "import pandas as pd\nraw_data = pd.read_csv('Data-Collisions.csv',index_col='OBJECTID')\nraw_data.head()\n"
        },
        {
            "cell_type": "markdown",
            "metadata": {},
            "source": "The dataset has 194673 records of car accidents with 38 attributes."
        },
        {
            "cell_type": "code",
            "execution_count": 3,
            "metadata": {},
            "outputs": [
                {
                    "data": {
                        "text/plain": "(194673, 38)"
                    },
                    "execution_count": 3,
                    "metadata": {},
                    "output_type": "execute_result"
                }
            ],
            "source": "raw_data.shape"
        },
        {
            "cell_type": "markdown",
            "metadata": {},
            "source": "# 5. Methodology"
        },
        {
            "cell_type": "markdown",
            "metadata": {},
            "source": "### 5.1 Data Cleansing\nFirstly, we check the missing data in our dataset which has shown below. 'SEVERITYCODE' has no missing data while 'INATTENTIONIND', 'UNDERINFL', 'WEATHER', 'ROADCOND', 'LIGHTCOND' and 'SPEEDING' all have missing values to some extent, especially for 'INATTENTIONIND' and 'SPEEDING' which only have less than 30 thousand items in the whole dataset. We need to check these index further."
        },
        {
            "cell_type": "code",
            "execution_count": 10,
            "metadata": {},
            "outputs": [],
            "source": "import numpy as np\nimport matplotlib.pyplot as plt\nimport seaborn as sns\n%matplotlib inline"
        },
        {
            "cell_type": "code",
            "execution_count": 13,
            "metadata": {},
            "outputs": [
                {
                    "name": "stdout",
                    "output_type": "stream",
                    "text": "<class 'pandas.core.frame.DataFrame'>\nInt64Index: 194673 entries, 1 to 219547\nData columns (total 37 columns):\nSEVERITYCODE      194673 non-null int64\nX                 189339 non-null float64\nY                 189339 non-null float64\nINCKEY            194673 non-null int64\nCOLDETKEY         194673 non-null int64\nREPORTNO          194673 non-null object\nSTATUS            194673 non-null object\nADDRTYPE          192747 non-null object\nINTKEY            65070 non-null float64\nLOCATION          191996 non-null object\nEXCEPTRSNCODE     84811 non-null object\nEXCEPTRSNDESC     5638 non-null object\nSEVERITYCODE.1    194673 non-null int64\nSEVERITYDESC      194673 non-null object\nCOLLISIONTYPE     189769 non-null object\nPERSONCOUNT       194673 non-null int64\nPEDCOUNT          194673 non-null int64\nPEDCYLCOUNT       194673 non-null int64\nVEHCOUNT          194673 non-null int64\nINCDATE           194673 non-null object\nINCDTTM           194673 non-null object\nJUNCTIONTYPE      188344 non-null object\nSDOT_COLCODE      194673 non-null int64\nSDOT_COLDESC      194673 non-null object\nINATTENTIONIND    29805 non-null object\nUNDERINFL         189789 non-null object\nWEATHER           189592 non-null object\nROADCOND          189661 non-null object\nLIGHTCOND         189503 non-null object\nPEDROWNOTGRNT     4667 non-null object\nSDOTCOLNUM        114936 non-null float64\nSPEEDING          9333 non-null object\nST_COLCODE        194655 non-null object\nST_COLDESC        189769 non-null object\nSEGLANEKEY        194673 non-null int64\nCROSSWALKKEY      194673 non-null int64\nHITPARKEDCAR      194673 non-null object\ndtypes: float64(4), int64(11), object(22)\nmemory usage: 56.4+ MB\n"
                }
            ],
            "source": "raw_data.info()"
        },
        {
            "cell_type": "code",
            "execution_count": null,
            "metadata": {},
            "outputs": [],
            "source": ""
        },
        {
            "cell_type": "code",
            "execution_count": 21,
            "metadata": {},
            "outputs": [
                {
                    "name": "stdout",
                    "output_type": "stream",
                    "text": "Indicator:SEVERITYCODE\n1    136485\n2     58188\nName: SEVERITYCODE, dtype: int64\n--------------------------------------\nIndicator:INATTENTIONIND\nY    29805\nName: INATTENTIONIND, dtype: int64\n--------------------------------------\nIndicator:UNDERINFL\nN    100274\n0     80394\nY      5126\n1      3995\nName: UNDERINFL, dtype: int64\n--------------------------------------\nIndicator:WEATHER\nClear                       111135\nRaining                      33145\nOvercast                     27714\nUnknown                      15091\nSnowing                        907\nOther                          832\nFog/Smog/Smoke                 569\nSleet/Hail/Freezing Rain       113\nBlowing Sand/Dirt               56\nSevere Crosswind                25\nPartly Cloudy                    5\nName: WEATHER, dtype: int64\n--------------------------------------\nIndicator:ROADCOND\nDry               124510\nWet                47474\nUnknown            15078\nIce                 1209\nSnow/Slush          1004\nOther                132\nStanding Water       115\nSand/Mud/Dirt         75\nOil                   64\nName: ROADCOND, dtype: int64\n--------------------------------------\nIndicator:LIGHTCOND\nDaylight                    116137\nDark - Street Lights On      48507\nUnknown                      13473\nDusk                          5902\nDawn                          2502\nDark - No Street Lights       1537\nDark - Street Lights Off      1199\nOther                          235\nDark - Unknown Lighting         11\nName: LIGHTCOND, dtype: int64\n--------------------------------------\nIndicator:SPEEDING\nY    9333\nName: SPEEDING, dtype: int64\n--------------------------------------\n"
                }
            ],
            "source": "#The range of values for core index.\nindicators = ['SEVERITYCODE','INATTENTIONIND','UNDERINFL','WEATHER','ROADCOND','LIGHTCOND','SPEEDING']\nfor indicator in indicators:\n    print('Indicator:{}'.format(indicator))\n    print(raw_data[indicator].value_counts())\n    print('--------------------------------------')"
        },
        {
            "cell_type": "code",
            "execution_count": null,
            "metadata": {},
            "outputs": [],
            "source": "#processing missing data\n\n#Encoding\n"
        },
        {
            "cell_type": "markdown",
            "metadata": {},
            "source": "## 6. Results"
        },
        {
            "cell_type": "markdown",
            "metadata": {},
            "source": "## 7. Discussion"
        },
        {
            "cell_type": "markdown",
            "metadata": {},
            "source": "## 8. Conclusion"
        },
        {
            "cell_type": "code",
            "execution_count": null,
            "metadata": {},
            "outputs": [],
            "source": ""
        }
    ],
    "metadata": {
        "kernelspec": {
            "display_name": "Python 3.6",
            "language": "python",
            "name": "python3"
        },
        "language_info": {
            "codemirror_mode": {
                "name": "ipython",
                "version": 3
            },
            "file_extension": ".py",
            "mimetype": "text/x-python",
            "name": "python",
            "nbconvert_exporter": "python",
            "pygments_lexer": "ipython3",
            "version": "3.6.9"
        }
    },
    "nbformat": 4,
    "nbformat_minor": 1
}