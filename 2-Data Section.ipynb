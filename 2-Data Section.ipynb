{
    "cells": [
        {
            "cell_type": "markdown",
            "metadata": {
                "collapsed": true
            },
            "source": "# Seattle Traffic Accident Severity Prediction - Part 2\n## 1. Data Section\n        The dataset regarding to this project contains all kinds of collisions in Seattle from 2004 to 2020. To predict the damage level of road accidents, the indicator 'SEVERITUCODE' is chosen as the dependent variable. Normally, the degree of collision climbs up from property damage, injury, serious injury finally to fatality. Among dozens of attributes, this project concentrates on both nature and human factors which may lead to car accidents. Nature factors are made up by 'WEATHER','ROADCOND' and 'LIGHTCOND' which represents weather, road and view circumstance respectively. On the other hand, human factors usually reflects the status of drivers such as 'INATTENTIONIND','UNDERINFL', and 'SPEEDING' which shows the concentration of drivers mind, drug or alcohol influence and overspeed."
        },
        {
            "cell_type": "markdown",
            "metadata": {},
            "source": "| Attribute |Data type, length| Description |\n| :--- | :--- | :--- |\n| WEATHER | Text,300 | A description of the weather conditions during the time of the collision.\n| ROADCOND | Text,300 | The condition of the road during the collision.\n| LIGHTCOND | Text,300 | The light conditions during the collision.\n| INATTENTIONIND | Text,1 | Whether or not collision was due to inattention.(Y/N)\n| UNDERINFL | Text,10 | Whether or not a driver involved was under the influence of drugs or alcohol.\n| SPEEDING | Text,1 | Whether or not speeding was a factor in the collison.(Y/N)"
        },
        {
            "cell_type": "code",
            "execution_count": null,
            "metadata": {},
            "outputs": [],
            "source": ""
        }
    ],
    "metadata": {
        "kernelspec": {
            "display_name": "Python 3.6",
            "language": "python",
            "name": "python3"
        },
        "language_info": {
            "codemirror_mode": {
                "name": "ipython",
                "version": 3
            },
            "file_extension": ".py",
            "mimetype": "text/x-python",
            "name": "python",
            "nbconvert_exporter": "python",
            "pygments_lexer": "ipython3",
            "version": "3.6.9"
        }
    },
    "nbformat": 4,
    "nbformat_minor": 1
}